{
 "cells": [
  {
   "cell_type": "code",
   "execution_count": null,
   "id": "c11f4397-86d8-4233-b7d4-64c0c65d9e93",
   "metadata": {},
   "outputs": [],
   "source": [
    "Consider the below code to answer further questions:\n",
    "import numpy as np\n",
    "list_ = [ ‘1’ , ’2’ , ‘3’ , ‘4’ , ‘5’ ]\n",
    "array_list = np.array(object = list_)"
   ]
  },
  {
   "cell_type": "code",
   "execution_count": null,
   "id": "6a0f8cef-391a-4f2e-b1ba-529a37041b1a",
   "metadata": {},
   "outputs": [],
   "source": [
    "Q1. Is there any difference in the data type of variables list_ and array_list? If there is then write a code\n",
    "to print the data types of both the variables."
   ]
  },
  {
   "cell_type": "code",
   "execution_count": 2,
   "id": "6eefe318-e974-45a4-ab43-454031099d61",
   "metadata": {},
   "outputs": [],
   "source": [
    "import numpy as np"
   ]
  },
  {
   "cell_type": "code",
   "execution_count": 3,
   "id": "ea887eef-7501-447c-aac6-2ce5e620006c",
   "metadata": {},
   "outputs": [],
   "source": [
    "list_example = [1,2,3, 'a','b','c']"
   ]
  },
  {
   "cell_type": "code",
   "execution_count": 4,
   "id": "d8b5f21d-8f62-428c-b967-8433401d8cfc",
   "metadata": {},
   "outputs": [
    {
     "name": "stdout",
     "output_type": "stream",
     "text": [
      "The data type of list_example is :<class 'list'>\n"
     ]
    }
   ],
   "source": [
    "array_example = np.array([1,2,3])\n",
    "\n",
    "print(f'The data type of list_example is :{type(list_example)}')"
   ]
  },
  {
   "cell_type": "code",
   "execution_count": 5,
   "id": "eacd98d0-d26f-42ed-9df9-b6b3f9ea54a8",
   "metadata": {},
   "outputs": [
    {
     "name": "stdout",
     "output_type": "stream",
     "text": [
      "The data type of array_example is :<class 'numpy.ndarray'>\n"
     ]
    }
   ],
   "source": [
    "print(f'The data type of array_example is :{type(array_example)}')"
   ]
  },
  {
   "cell_type": "code",
   "execution_count": 6,
   "id": "d00f7484-d127-414c-a962-9491a08db9c0",
   "metadata": {},
   "outputs": [],
   "source": [
    "import array"
   ]
  },
  {
   "cell_type": "code",
   "execution_count": 7,
   "id": "2291a0a2-f348-441f-a2b7-8d48fcceb338",
   "metadata": {},
   "outputs": [],
   "source": [
    "list_example = [1,2,3,'a','b','c']"
   ]
  },
  {
   "cell_type": "code",
   "execution_count": 8,
   "id": "9b5a12e2-7ad2-4565-a48e-5c0891a5344a",
   "metadata": {},
   "outputs": [
    {
     "name": "stdout",
     "output_type": "stream",
     "text": [
      "The data type of list_example is :<class 'list'>\n"
     ]
    }
   ],
   "source": [
    "array_example = array.array('i',[1,2,3])\n",
    "print(f'The data type of list_example is :{type(list_example)}')\n"
   ]
  },
  {
   "cell_type": "code",
   "execution_count": 9,
   "id": "e0b04c7a-6dca-4b82-bec8-1e234a25d2a9",
   "metadata": {},
   "outputs": [
    {
     "name": "stdout",
     "output_type": "stream",
     "text": [
      "The data type of array_example is :<class 'array.array'>\n"
     ]
    }
   ],
   "source": [
    "print(f'The data type of array_example is :{type(array_example)}')"
   ]
  },
  {
   "cell_type": "code",
   "execution_count": null,
   "id": "666b0d32-ae99-4952-9b26-12460bf8ddfd",
   "metadata": {},
   "outputs": [],
   "source": [
    "Q2. Write a code to print the data type of each and every element of both the variables list_ and\n",
    "arra_list."
   ]
  },
  {
   "cell_type": "code",
   "execution_count": 10,
   "id": "e902d5e3-423b-4391-9334-7993a79dc506",
   "metadata": {},
   "outputs": [],
   "source": [
    "list_=[1,'string',3.14,True]"
   ]
  },
  {
   "cell_type": "code",
   "execution_count": 11,
   "id": "f112110b-a526-4e1d-9c12-74aa97f40d2b",
   "metadata": {},
   "outputs": [],
   "source": [
    "arra_list =[[1,2,3],{'key':'value'},(4,5),None]"
   ]
  },
  {
   "cell_type": "code",
   "execution_count": 12,
   "id": "a75b27eb-3db6-4185-8795-ba94f8e322c5",
   "metadata": {},
   "outputs": [],
   "source": [
    "def print_data_types(variable,variable_name):\n",
    "    print(f\"Data type in {variable_name}:\")\n",
    "    for index,element in enumerate(variable):\n",
    "        print(f\"Element{index} is of type{type(element).__name__}\")"
   ]
  },
  {
   "cell_type": "code",
   "execution_count": 14,
   "id": "f293ec25-02ba-435a-93c9-a4fd63eeac58",
   "metadata": {},
   "outputs": [
    {
     "name": "stdout",
     "output_type": "stream",
     "text": [
      "Data type in list_:\n",
      "Element0 is of typeint\n",
      "Element1 is of typestr\n",
      "Element2 is of typefloat\n",
      "Element3 is of typebool\n",
      "Data type in arra_list:\n",
      "Element0 is of typelist\n",
      "Element1 is of typedict\n",
      "Element2 is of typetuple\n",
      "Element3 is of typeNoneType\n"
     ]
    }
   ],
   "source": [
    "print_data_types(list_, \"list_\")\n",
    "print_data_types(arra_list,\"arra_list\")"
   ]
  },
  {
   "cell_type": "code",
   "execution_count": null,
   "id": "020e640a-7816-4fa7-8fba-f54bf4ce251c",
   "metadata": {},
   "outputs": [],
   "source": [
    "Q3. Considering the following changes in the variable, array_list:\n",
    "array_list = np.array(object = list_, dtype = int)"
   ]
  },
  {
   "cell_type": "code",
   "execution_count": 15,
   "id": "8ff8e36d-9ebc-4e2b-bf48-2f604f53f04e",
   "metadata": {},
   "outputs": [],
   "source": [
    "import numpy as np"
   ]
  },
  {
   "cell_type": "code",
   "execution_count": 16,
   "id": "f54f21fa-aa7f-41fc-8e60-5a3e71b69a32",
   "metadata": {},
   "outputs": [],
   "source": [
    "list_=[1,'string',3.14, True]"
   ]
  },
  {
   "cell_type": "code",
   "execution_count": 17,
   "id": "cec8ec8c-dfa5-47e5-989a-2e6d5e45d654",
   "metadata": {},
   "outputs": [
    {
     "name": "stdout",
     "output_type": "stream",
     "text": [
      "Error converting list_ to aray_list with dtype=int:invalid literal for int() with base 10: 'string'\n"
     ]
    }
   ],
   "source": [
    "try:\n",
    "    array_list =np.array(object=list_, dtype=int)\n",
    "except ValueError as e:\n",
    "    print(f\"Error converting list_ to aray_list with dtype=int:{e}\")\n",
    "    array_list = None\n",
    "    "
   ]
  },
  {
   "cell_type": "code",
   "execution_count": 18,
   "id": "36bd0960-e625-4c49-8798-a82b7641cb60",
   "metadata": {},
   "outputs": [],
   "source": [
    "def print_data_types(variable,variable_name):\n",
    "    if variable is None:\n",
    "        print(f\"{variable_name} is not defined due to conversion error . \")\n",
    "        return\n",
    "    print(f\"Data types in {variable_name}:\")\n",
    "    for index,element in enumerate(variable):\n",
    "        print(f\"Element{index} is of type{type(element).__name__}\")"
   ]
  },
  {
   "cell_type": "code",
   "execution_count": 19,
   "id": "af4f6e8d-e943-41f3-b6cf-7d2ebfdd414d",
   "metadata": {},
   "outputs": [
    {
     "name": "stdout",
     "output_type": "stream",
     "text": [
      "Data types in list_:\n",
      "Element0 is of typeint\n",
      "Element1 is of typestr\n",
      "Element2 is of typefloat\n",
      "Element3 is of typebool\n"
     ]
    }
   ],
   "source": [
    "print_data_types(list_, \"list_\")\n",
    "if array_list is not None:\n",
    "    print_data_types(array_list,\"array_list\")"
   ]
  },
  {
   "cell_type": "code",
   "execution_count": null,
   "id": "3b1c133a-19a0-4c9c-ad4b-d15c849eaa57",
   "metadata": {},
   "outputs": [],
   "source": [
    "Q4. Write a code to find the following characteristics of variable, num_array:\n",
    "(i) shape\n",
    "(ii) size"
   ]
  },
  {
   "cell_type": "code",
   "execution_count": null,
   "id": "42fe061d-5231-4b2a-bb67-20734337f55d",
   "metadata": {},
   "outputs": [],
   "source": []
  },
  {
   "cell_type": "code",
   "execution_count": 20,
   "id": "f86ddc9e-7666-4ee5-8acf-0f6da7fc406b",
   "metadata": {},
   "outputs": [],
   "source": [
    "import numpy as np"
   ]
  },
  {
   "cell_type": "code",
   "execution_count": 21,
   "id": "e6a99943-379b-4239-bc98-c2a3733b5ddd",
   "metadata": {},
   "outputs": [],
   "source": [
    "num_array = np.array([[1,2,3],[4,5,6]])"
   ]
  },
  {
   "cell_type": "code",
   "execution_count": 22,
   "id": "36961f11-0092-4d34-acc6-1ddb4e52fe50",
   "metadata": {},
   "outputs": [],
   "source": [
    "shape = num_array.shape\n",
    "size= num_array.size"
   ]
  },
  {
   "cell_type": "code",
   "execution_count": 23,
   "id": "193e5b54-06b8-483d-b79e-b02b9064991f",
   "metadata": {},
   "outputs": [
    {
     "name": "stdout",
     "output_type": "stream",
     "text": [
      "Shape of num_array: (2, 3)\n"
     ]
    }
   ],
   "source": [
    "print(\"Shape of num_array:\",shape)"
   ]
  },
  {
   "cell_type": "code",
   "execution_count": 24,
   "id": "7568ccac-3cec-4a74-bea3-d06ec0f3c3f9",
   "metadata": {},
   "outputs": [
    {
     "name": "stdout",
     "output_type": "stream",
     "text": [
      "Size of num_array: 6\n"
     ]
    }
   ],
   "source": [
    "print(\"Size of num_array:\",size)"
   ]
  },
  {
   "cell_type": "code",
   "execution_count": null,
   "id": "07721231-82fa-4250-be26-3ed2148fd2e6",
   "metadata": {},
   "outputs": [],
   "source": [
    "Q5. Write a code to create numpy array of 3*3 matrix containing zeros only, using a numpy array\n",
    "creation function."
   ]
  },
  {
   "cell_type": "code",
   "execution_count": 26,
   "id": "9cdfac83-a191-49be-839e-5aff0c29a074",
   "metadata": {},
   "outputs": [],
   "source": [
    "import numpy as np"
   ]
  },
  {
   "cell_type": "code",
   "execution_count": 27,
   "id": "c54d4cb1-7094-4566-8147-3c14e8b58f61",
   "metadata": {},
   "outputs": [],
   "source": [
    "zero_matrix = np.zeros((3,3))"
   ]
  },
  {
   "cell_type": "code",
   "execution_count": 28,
   "id": "e0a1ca02-cff9-4418-8287-2dcd24a8c0cd",
   "metadata": {},
   "outputs": [
    {
     "name": "stdout",
     "output_type": "stream",
     "text": [
      "3*3 Matrix of zeros:\n",
      "[[0. 0. 0.]\n",
      " [0. 0. 0.]\n",
      " [0. 0. 0.]]\n"
     ]
    }
   ],
   "source": [
    "print(\"3*3 Matrix of zeros:\")\n",
    "print(zero_matrix)"
   ]
  },
  {
   "cell_type": "code",
   "execution_count": null,
   "id": "d9f3a28c-ee11-4e6d-99dc-6b782157680e",
   "metadata": {},
   "outputs": [],
   "source": [
    "Q6. Create an identity matrix of shape (5,5) using numpy functions?\n",
    "[Hint: An identity matrix is a matrix containing 1 diagonally and other elements will be 0.]"
   ]
  },
  {
   "cell_type": "code",
   "execution_count": 29,
   "id": "f3dcdea1-0ed6-41f8-9c36-aae64800f423",
   "metadata": {},
   "outputs": [],
   "source": [
    "import numpy as np"
   ]
  },
  {
   "cell_type": "code",
   "execution_count": 30,
   "id": "529f2377-d0bb-48f9-9ee1-c6e09bd89898",
   "metadata": {},
   "outputs": [],
   "source": [
    "identity_matrix = np.eye(5)"
   ]
  },
  {
   "cell_type": "code",
   "execution_count": 31,
   "id": "ff26ffd6-0cfb-4eec-b22e-deca45e98b9e",
   "metadata": {},
   "outputs": [
    {
     "name": "stdout",
     "output_type": "stream",
     "text": [
      "5*5 Identity Matrix:\n",
      "[[1. 0. 0. 0. 0.]\n",
      " [0. 1. 0. 0. 0.]\n",
      " [0. 0. 1. 0. 0.]\n",
      " [0. 0. 0. 1. 0.]\n",
      " [0. 0. 0. 0. 1.]]\n"
     ]
    }
   ],
   "source": [
    "print(\"5*5 Identity Matrix:\")\n",
    "print(identity_matrix)"
   ]
  },
  {
   "cell_type": "code",
   "execution_count": 32,
   "id": "3ea9eb1b-8d95-48da-bf25-57908130a6c7",
   "metadata": {},
   "outputs": [],
   "source": [
    "import numpy as np"
   ]
  },
  {
   "cell_type": "code",
   "execution_count": null,
   "id": "e4a1a0a0-53bf-4e0d-90bf-4678f18cc93b",
   "metadata": {},
   "outputs": [],
   "source": [
    "identity_matrix = np.identity(5"
   ]
  }
 ],
 "metadata": {
  "kernelspec": {
   "display_name": "Python 3 (ipykernel)",
   "language": "python",
   "name": "python3"
  },
  "language_info": {
   "codemirror_mode": {
    "name": "ipython",
    "version": 3
   },
   "file_extension": ".py",
   "mimetype": "text/x-python",
   "name": "python",
   "nbconvert_exporter": "python",
   "pygments_lexer": "ipython3",
   "version": "3.10.8"
  }
 },
 "nbformat": 4,
 "nbformat_minor": 5
}
